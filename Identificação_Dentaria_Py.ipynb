{
  "nbformat": 4,
  "nbformat_minor": 0,
  "metadata": {
    "colab": {
      "provenance": [],
      "authorship_tag": "ABX9TyM+QsagCA0pRey8FcXhTq4W",
      "include_colab_link": true
    },
    "kernelspec": {
      "name": "python3",
      "display_name": "Python 3"
    },
    "language_info": {
      "name": "python"
    }
  },
  "cells": [
    {
      "cell_type": "markdown",
      "metadata": {
        "id": "view-in-github",
        "colab_type": "text"
      },
      "source": [
        "<a href=\"https://colab.research.google.com/github/Jonata-Garcia/Identifica-o_Dentaria/blob/main/Identifica%C3%A7%C3%A3o_Dentaria_Py.ipynb\" target=\"_parent\"><img src=\"https://colab.research.google.com/assets/colab-badge.svg\" alt=\"Open In Colab\"/></a>"
      ]
    },
    {
      "cell_type": "code",
      "execution_count": null,
      "metadata": {
        "colab": {
          "base_uri": "https://localhost:8080/"
        },
        "id": "7Wo7AYIaEP8z",
        "outputId": "a325101e-2920-4589-c2c4-2632de2a1629"
      },
      "outputs": [
        {
          "output_type": "stream",
          "name": "stdout",
          "text": [
            "Digite a numeração do dente procurado (Numeração do quadrante + Numeração do dente): 89\n",
            "Esta numeração não corresponde a nenhum dente !\n"
          ]
        }
      ],
      "source": [
        "Arcada_Dentaria = {11:\"Incisivo central superior direito\",12:\"Incisivo lateral superior direito\",13:\"Canino superior direito\",14:\"Primeiro pré-molar superior direito\",15:\"Segundo pré-molar superior direito\",16:\"Primeiro molar superior direito\",17:\"Segundo molar superior direito\",18:\"Terceiro molar superior direito (siso)\",\n",
        "                   21:\"Incisivo central superior esquerdo\",22:\"Incisivo lateral superior esquerdo\",23:\"Canino superior esquerdo\",24:\"Primeiro pré-molar superior esquerdo\",25:\"Segundo pré-molar superior esquerdo\",26:\"Primeiro molar superior esquerdo\",27:\"Segundo molar superior esquerdo\",28:\"Terceiro molar superior esquerdo (siso)\",\n",
        "                   31:\"Incisivo central inferior esquerdo\",32:\"Incisivo lateral inferior esquerdo\",33:\"Canino superior inferior esquerdo\",34:\"Primeiro pré-molar inferior esquerdo\",35:\"Segundo pré-molar inferior esquerdo\",36:\"Primeiro molar inferior esquerdo\",37:\"Segundo molar inferior esquerdo\",38:\"Terceiro molar inferior esquerdo (siso)\",\n",
        "                   41:\"Incisivo central inferior direito\",42:\"Incisivo lateral inferior direito\",43:\"Canino superior inferior direito\",44:\"Primeiro pré-molar inferior direito\",45:\"Segundo pré-molar inferior direito\",46:\"Primeiro molar inferior direito\",47:\"Segundo molar inferior direito\",48:\"Terceiro molar inferior direito (siso)\"}\n",
        "\n",
        "dente_procurado = int(input(\"Digite a numeração do dente procurado (Numeração do quadrante + Numeração do dente): \"))\n",
        "\n",
        "verificando_valor = False\n",
        "for elemento in Arcada_Dentaria:\n",
        "    if elemento == dente_procurado:\n",
        "        verificando_valor = True\n",
        "        breaks\n",
        "\n",
        "if verificando_valor:\n",
        "   print(\"O dente Procurado é: \" + Arcada_Dentaria[dente_procurado])\n",
        "else:\n",
        "   print(\"Esta numeração não corresponde a nenhum dente !\")"
      ]
    }
  ]
}